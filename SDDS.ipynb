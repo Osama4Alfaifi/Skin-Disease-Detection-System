{
 "cells": [
  {
   "cell_type": "markdown",
   "id": "3453e8c6",
   "metadata": {},
   "source": [
    "**1- Import needed libraries**<br> \n",
    "**2- Loading Data**<br>\n",
    "**3- Preparing Data**<br>\n",
    "**4- Model Definition**<br>\n",
    "**5- Model Training**<br>\n",
    "**6- Model Evaluation**<br>\n",
    "**7- Reports**<br>\n",
    "**8- Saving Our Model** <br>\n",
    "**9- Saving Our Model As TFLite** <br>\n",
    "**10- Transfer Learning Models** <br>\n",
    "**11- SVM Transfer Learning** <br>"
   ]
  },
  {
   "cell_type": "markdown",
   "id": "a65a7bef",
   "metadata": {},
   "source": [
    "# 1- Import Needed Libraries"
   ]
  },
  {
   "cell_type": "code",
   "execution_count": 49,
   "id": "c81aa919",
   "metadata": {},
   "outputs": [],
   "source": [
    "import pandas as pd \n",
    "import sklearn\n",
    "import joblib\n",
    "import matplotlib.pyplot as plt\n",
    "import tensorflow as tf\n",
    "import keras \n",
    "import numpy as np\n",
    "from tensorflow.keras.preprocessing.image import ImageDataGenerator\n",
    "from tensorflow.keras.applications import VGG16\n",
    "from tensorflow.keras.applications import VGG19\n",
    "from tensorflow.keras.applications import EfficientNetB7\n",
    "from sklearn.metrics import accuracy_score\n",
    "from numpy import array\n",
    "from sklearn.model_selection import train_test_split\n",
    "from sklearn.metrics import classification_report, confusion_matrix\n",
    "from keras import models as Models\n",
    "from keras import layers as Layers\n",
    "from keras.preprocessing import image\n",
    "from keras.models import Sequential,Model\n",
    "from keras.layers import Input,InputLayer, Dense, Activation, ZeroPadding2D, BatchNormalization\n",
    "from keras.layers import Flatten, Conv2D, AveragePooling2D, MaxPooling2D, Dropout\n",
    "from keras.callbacks import ModelCheckpoint,EarlyStopping\n",
    "from keras import utils as Utils\n",
    "from tensorflow.keras.utils import to_categorical\n",
    "from keras.utils.vis_utils import model_to_dot\n",
    "from tensorflow.keras.utils import plot_model\n",
    "from tensorflow.keras.preprocessing.image import img_to_array\n",
    "from tensorflow.keras.models import load_model \n",
    "import cv2\n",
    "import os\n",
    "from PIL import Image\n",
    "from tensorflow.keras.optimizers import Adam\n",
    "from tensorflow.keras.preprocessing.image import load_img\n",
    "from tensorflow.keras.utils import to_categorical\n",
    "from tensorflow.keras.applications.mobilenet_v2 import preprocess_input\n",
    "from sklearn.preprocessing import LabelEncoder\n",
    "from sklearn.model_selection import train_test_split\n",
    "from sklearn.metrics import classification_report\n",
    "from imutils import paths\n",
    "from sklearn import svm"
   ]
  },
  {
   "cell_type": "markdown",
   "id": "3cfc8f53",
   "metadata": {},
   "source": [
    "# 2- Loading Data"
   ]
  },
  {
   "cell_type": "code",
   "execution_count": 76,
   "id": "31cf2d9f",
   "metadata": {},
   "outputs": [],
   "source": [
    "#198 Classes\n",
    "DIRECTORY = r\"C:/Users/DELL/Desktop/AllKMeans/\"\n",
    "\n",
    "CATEGORIES = [\"Acne_Keloidalis_Nuchae\", \"Acne_Vulgaris\", \"Acrokeratosis_Verruciformis\", \"Actinic_solar_Damage(Actinic_Cheilitis)\", \"Actinic_solar_Damage(Actinic_Keratosis)\", \n",
    "              \"Actinic_solar_Damage(Cutis_Rhomboidalis_Nuchae)\", \"Actinic_solar_Damage(Pigmentation)\",\n",
    "              \"Actinic_solar_Damage(Solar_Elastosis)\", \"Actinic_solar_Damage(Solar_Purpura)\",\n",
    "              \"Actinic_solar_Damage(Telangiectasia)\", \"Acute_Eczema\", \"Allergic_Contact_Dermatitis\",\n",
    "              \"Alopecia_Areata\", \"Androgenetic_Alopecia\", \"Angioma\", \"Angular_Cheilitis\", \"Aphthous_Ulcer\",\n",
    "              \"Apocrine_Hydrocystoma\", \"Arsenical_Keratosis\", \"Balanitis_Xerotica_Obliterans\",\n",
    "              \"Basal_Cell_Carcinoma\", \"Beau's_Lines\", \"Becker's_Nevus\", \"Behcet's_Syndrome\",\n",
    "              \"Benign_Keratosis\", \"Blue_Nevus\", \"Bowen's_Disease\", \"Bowenoid_Papulosis\",\n",
    "              \"Cafe_Au_Lait_Macule\", \"Callus\", \"Candidiasis\", \"Cellulitis\", \"Chalazion\",\n",
    "              \"Clubbing_of_Fingers\", \"Compound_Nevus\", \"Congenital_Nevus\", \"Crowe's_Sign\",\n",
    "              \"Cutanea_Larva_Migrans\", \"Cutaneous_Horn\", \"Cutaneous_T-Cell_Lymphoma\",\n",
    "              \"Cutis_Marmorata\", \"Darier-White_Disease\", \"Dermatofibroma\",\n",
    "              \"Dermatosis_Papulosa_Nigra\", \"Desquamation\", \"Digital_Fibroma\",\n",
    "              \"Dilated_Pore_of_Winer\", \"Discoid_Lupus_Erythematosus\",\n",
    "              \"Disseminated_Actinic_Porokeratosis\", \"Drug_Eruption\",\n",
    "              \"Dry_Skin_Eczema\", \"Dyshidrosiform_Eczema\", \"Dysplastic_Nevus\",\n",
    "              \"Eccrine_Poroma\", \"Eczema\", \"Epidermal_Nevus\", \"Epidermoid_Cyst\",\n",
    "              \"Epithelioma_Adenoides_Cysticum\", \"Erythema_Ab_Igne\", \"Erythema_Annulare_Centrifigum\",\n",
    "              \"Erythema_Craquele\", \"Erythema_Multiforme\", \"Exfoliative_Erythroderma\",\n",
    "              \"Factitial_Dermatitis\", \"Favre_Racouchot\", \"Fibroma\", \"Fibroma_Molle\",\n",
    "              \"Fixed_Drug_Eruption\", \"Follicular_Mucinosis\", \"Follicular_Retention_Cyst\",\n",
    "              \"Fordyce_Spots\", \"Frictional_Lichenoid_Dermatitis\", \"Ganglion\", \"Geographic_Tongue\",\n",
    "              \"Granulation_Tissue\", \"Granuloma_Annulare\", \"Green_Nail\", \"Guttate_Psoriasis\",\n",
    "              \"Hailey_Hailey_Disease\", \"Half_and_Half_Nail\", \"Halo_Nevus\", \"Herpes_Simplex_Virus\",\n",
    "              \"Herpes_Zoster\", \"Hidradenitis_Suppurativa\", \"Histiocytosis_X\",\n",
    "              \"Hyperkeratosis_Palmaris_Et_Plantaris\", \"Hypertrichosis\", \"Ichthyosis\", \"Impetigo\",\n",
    "              \"Infantile_Atopic_Dermatitis\", \"Inverse_Psoriasis\", \"Junction_Nevus\", \"Keloid\",\n",
    "              \"Keratoacanthoma\", \"Keratolysis_Exfoliativa_of_Wende\", \"Keratosis_Pilaris\", \"Kerion\",\n",
    "              \"Koilonychia\", \"Kyrle's_Disease\", \"Leiomyoma\", \"Lentigo_Maligna_Melanoma\",\n",
    "              \"Leukocytoclastic_Vasculitis\", \"Leukonychia\", \"Lichen_Planus\",\n",
    "              \"Lichen_Sclerosis_Et_Atrophicus\", \"Lichen_Simplex_Chronicus\", \"Lichen_Spinulosis\",\n",
    "              \"Linear_Epidermal_Nevus\", \"Lipoma\", \"Livedo_Reticularis\", \"Lymphangioma_Circumscriptum\",\n",
    "              \"Lymphocytic_Infiltrate_of_Jessner\", \"Lymphomatoid_Papulosis\", \"Malignant_Melanoma\",\n",
    "              \"Mal_Perforans\", \"Median_Nail_Dystrophy\", \"Melasma\", \"Metastatic_Carcinoma\", \"Milia\",\n",
    "              \"Molluscum_Contagiosum\", \"Morphea\", \"Mucha_Habermann_Disease\",\n",
    "              \"Mucous_Membrane_Psoriasis\", \"Myxoid_Cyst\", \"Nail_Dystrophy\", \"Nail_Nevus\",\n",
    "              \"Nail_Psoriasis\", \"Nail_Ridging\", \"Neurodermatitis\", \"Neurofibroma\",\n",
    "              \"Neurotic_Excoriations\", \"Nevus_Comedonicus\", \"Nevus_Incipiens\",\n",
    "              \"Nevus_Sebaceous_of_Jadassohn\", \"Nevus_Spilus\", \"Nummular_Eczema\",\n",
    "              \"Onychogryphosis\", \"Onycholysis\", \"Onychomycosis\", \"Onychoschizia\",\n",
    "              \"Paronychia\", \"Pearl_Penile_Papules\", \"Perioral_Dermatitis\", \"Pincer_Nail_Syndrome\",\n",
    "              \"Pitted_Keratolysis\", \"Pityriasis_Alba\", \"Pityriasis_Rosea\",\n",
    "              \"Pityrosporum_Folliculitis\", \"Poikiloderma_Atrophicans_Vasculare\", \"Pomade_Acne\",\n",
    "              \"Pseudofolliculitis_Barbae\", \"Pseudorhinophyma\", \"Psoriasis\", \"Pustular_Psoriasis\",\n",
    "              \"Pyoderma_Gangrenosum\", \"Pyogenic_Granuloma\", \"Racquet_Nail\", \"Radiodermatitis\",\n",
    "              \"Rhinophyma\", \"Rosacea\", \"Scalp_Psoriasis\", \"Scar\", \"Scarring_Alopecia\",\n",
    "              \"Schamberg's_Disease\", \"Sebaceous_Gland_Hyperplasia\", \"Seborrheic_Dermatitis\",\n",
    "              \"Seborrheic_Keratosis\", \"Skin_Tag\", \"Solar_Lentigo\", \"Stasis_Dermatitis\",\n",
    "              \"Stasis_Edema\", \"Stasis_Ulcer\", \"Steroid_Acne\", \"Steroid_Striae\",\n",
    "              \"Steroid_Use_abusemisuse_Dermatitis\", \"Stomatitis\", \"Strawberry_Hemangioma\",\n",
    "              \"Striae\", \"Subungual_Hematoma\", \"Syringoma\", \"Terry's_Nails\", \"Tinea_Corporis\",\n",
    "              \"Tinea_Cruris\", \"Tinea_Faciale\", \"Tinea_Manus\", \"Tinea_Pedis\", \"Tinea_Versicolor\",\n",
    "              \"Toe_Deformity\", \"Trichilemmal_Cyst\", \"Trichofolliculoma\", \"Trichostasis_Spinulosa\",\n",
    "              \"Ulcer\", \"Urticaria\", \"Varicella\", \"Verruca_Vulgaris\", \"Vitiligo\", \"Wound_Infection\",\n",
    "              \"Xerosis\"]"
   ]
  },
  {
   "cell_type": "code",
   "execution_count": 50,
   "id": "e4b3982b",
   "metadata": {},
   "outputs": [],
   "source": [
    "#Top 10 Classes\n",
    "DIRECTORY = r\"C:/Users/DELL/Desktop/P2Dataset/Top10Under/\"\n",
    "\n",
    "CATEGORIES = [\"Acne_Vulgaris\",\"Allergic_Contact_Dermatitis\",\"Basal_Cell_Carcinoma\",\"Eczema\",\n",
    "              \"Herpes_Zoster\", \"Ichthyosis\", \"Psoriasis\",\n",
    "              \"Rosacea\", \"Tinea_Pedis\", \"Urticaria\"]"
   ]
  },
  {
   "cell_type": "markdown",
   "id": "64dff87c",
   "metadata": {},
   "source": [
    "# 3- Preparing Data"
   ]
  },
  {
   "cell_type": "code",
   "execution_count": 51,
   "id": "9997dd22",
   "metadata": {},
   "outputs": [],
   "source": [
    "#Convert images and data into arrays\n",
    "data = []\n",
    "labels = []\n",
    "\n",
    "for category in CATEGORIES:\n",
    "    path = os.path.join(DIRECTORY, category)\n",
    "    for img in os.listdir(path):\n",
    "        img_path = os.path.join(path, img)\n",
    "        image = load_img(img_path)\n",
    "        image = img_to_array(image)\n",
    "        image = preprocess_input(image)\n",
    "        data.append(image)\n",
    "        labels.append(category)"
   ]
  },
  {
   "cell_type": "code",
   "execution_count": null,
   "id": "adb0ec72",
   "metadata": {},
   "outputs": [],
   "source": [
    "lb = LabelEncoder()\n",
    "labels = lb.fit_transform(labels)\n",
    "print(labels)"
   ]
  },
  {
   "cell_type": "code",
   "execution_count": null,
   "id": "f7e81bd4",
   "metadata": {},
   "outputs": [],
   "source": [
    "labels_categorical = to_categorical(labels)\n",
    "print(labels_categorical)"
   ]
  },
  {
   "cell_type": "code",
   "execution_count": 54,
   "id": "509b600d",
   "metadata": {},
   "outputs": [],
   "source": [
    "data = np.array(data, dtype=\"float32\")\n",
    "labels = np.array(labels)"
   ]
  },
  {
   "cell_type": "code",
   "execution_count": 55,
   "id": "0f68ef29",
   "metadata": {},
   "outputs": [],
   "source": [
    "#categorical labels for CNN\n",
    "(trainX, testX, trainY, testY) = train_test_split(data, labels_categorical, test_size=0.10, stratify=labels, random_state=42)"
   ]
  },
  {
   "cell_type": "code",
   "execution_count": 18,
   "id": "517915c9",
   "metadata": {},
   "outputs": [],
   "source": [
    "#noncategorical labels for SVM\n",
    "(trainX, testX, trainY, testY) = train_test_split(data, labels, test_size=0.20, stratify=labels, random_state=42)"
   ]
  },
  {
   "cell_type": "markdown",
   "id": "7c44bf5c",
   "metadata": {},
   "source": [
    "# 4- Model Definition"
   ]
  },
  {
   "cell_type": "code",
   "execution_count": null,
   "id": "0db2bf0e",
   "metadata": {},
   "outputs": [],
   "source": [
    "#Creating our model\n",
    "model = Models.Sequential()\n",
    "model.add(Layers.Conv2D(64, kernel_size=(3, 3),activation='relu',input_shape=(200,200,3)))\n",
    "model.add(Layers.MaxPooling2D(pool_size=(3,3)))\n",
    "model.add(Layers.Flatten())\n",
    "model.add(Layers.Dense(10, activation='softmax'))\n",
    "model.compile(loss='categorical_crossentropy',optimizer='Adam',metrics=['accuracy'])\n",
    "model.summary()"
   ]
  },
  {
   "cell_type": "code",
   "execution_count": 57,
   "id": "aeb0f6d4",
   "metadata": {},
   "outputs": [],
   "source": [
    "callbacks_list =[EarlyStopping(monitor='val_loss', patience=5,restore_best_weights=True), ModelCheckpoint(\n",
    "    filepath='modelChPos.h5', monitor='val_loss', save_best_only= True),]"
   ]
  },
  {
   "cell_type": "markdown",
   "id": "b044af1c",
   "metadata": {},
   "source": [
    "# 5- Model Training"
   ]
  },
  {
   "cell_type": "code",
   "execution_count": null,
   "id": "e1479d42",
   "metadata": {},
   "outputs": [],
   "source": [
    "trained = model.fit(trainX, trainY,epochs= 10\n",
    "                    ,validation_data=(testX, testY)\n",
    "                   ,batch_size = 16\n",
    "                   #,callbacks = callbacks_list\n",
    "                   )  "
   ]
  },
  {
   "cell_type": "markdown",
   "id": "7affa433",
   "metadata": {},
   "source": [
    "# 6- Model Evaluation"
   ]
  },
  {
   "cell_type": "code",
   "execution_count": null,
   "id": "fa87aefd",
   "metadata": {},
   "outputs": [],
   "source": [
    "fig, ax = plt.subplots(figsize=(3, 4))\n",
    "ax.matshow(conf_matrix, cmap=plt.cm.Blues, alpha=0.3)\n",
    "for i in range(conf_matrix.shape[0]):\n",
    "    for j in range(conf_matrix.shape[1]):\n",
    "        ax.text(x=j, y=i,s=conf_matrix[i, j], va='center', ha='center', size='xx-large')\n",
    " \n",
    "plt.xlabel('Predictions', fontsize=18)\n",
    "plt.ylabel('Actuals', fontsize=18)\n",
    "plt.title('Confusion Matrix', fontsize=18)\n",
    "plt.show()"
   ]
  },
  {
   "cell_type": "code",
   "execution_count": 72,
   "id": "9ecc8a30",
   "metadata": {},
   "outputs": [],
   "source": [
    "predictions = model.predict(testX)"
   ]
  },
  {
   "cell_type": "code",
   "execution_count": 73,
   "id": "ded51ba8",
   "metadata": {},
   "outputs": [],
   "source": [
    "cnn_pred = np.argmax(predictions,axis = 1)\n",
    "testY_pred = np.argmax(testY,axis = 1)"
   ]
  },
  {
   "cell_type": "code",
   "execution_count": null,
   "id": "9369fa9a",
   "metadata": {},
   "outputs": [],
   "source": [
    "acc = accuracy_score(cnn_pred,testY_pred)\n",
    "print(\"accuracy =\",acc*100)"
   ]
  },
  {
   "cell_type": "markdown",
   "id": "44c7129a",
   "metadata": {},
   "source": [
    "# 7- Reports"
   ]
  },
  {
   "cell_type": "code",
   "execution_count": null,
   "id": "7007192b",
   "metadata": {},
   "outputs": [],
   "source": [
    "#Classifcation Report for\n",
    "#Precision\n",
    "#Recall\n",
    "#F1-score\n",
    "#Support\n",
    "print(classification_report(testY_pred, cnn_pred,\n",
    "target_names=lb.classes_))"
   ]
  },
  {
   "cell_type": "code",
   "execution_count": 78,
   "id": "79472db0",
   "metadata": {},
   "outputs": [],
   "source": [
    "conf_matrix = confusion_matrix(y_true=testY_pred, y_pred=cnn_pred)"
   ]
  },
  {
   "cell_type": "code",
   "execution_count": null,
   "id": "c421ae4f",
   "metadata": {},
   "outputs": [],
   "source": [
    "#confusion matrix\n",
    "fig, ax = plt.subplots(figsize=(3, 4))\n",
    "ax.matshow(conf_matrix, cmap=plt.cm.Blues, alpha=0.3)\n",
    "for i in range(conf_matrix.shape[0]):\n",
    "    for j in range(conf_matrix.shape[1]):\n",
    "        ax.text(x=j, y=i,s=conf_matrix[i, j], va='center', ha='center', size='xx-large')\n",
    " \n",
    "plt.xlabel('Predictions', fontsize=18)\n",
    "plt.ylabel('Actuals', fontsize=18)\n",
    "plt.title('Confusion Matrix', fontsize=18)\n",
    "plt.show()"
   ]
  },
  {
   "cell_type": "markdown",
   "id": "fda0a0cf",
   "metadata": {},
   "source": [
    "# 8- Saving Our Model"
   ]
  },
  {
   "cell_type": "code",
   "execution_count": 42,
   "id": "659418e4",
   "metadata": {},
   "outputs": [],
   "source": [
    "model.save(\"Model.h5\")"
   ]
  },
  {
   "cell_type": "markdown",
   "id": "043df41b",
   "metadata": {},
   "source": [
    "# 9- Saving Our Model As TFLite"
   ]
  },
  {
   "cell_type": "code",
   "execution_count": null,
   "id": "c9beea9e",
   "metadata": {},
   "outputs": [],
   "source": [
    "tf_lite_converter = tf.lite.TFLiteConverter.from_keras_model(model)\n",
    "tflite_model = tf_lite_converter.convert()"
   ]
  },
  {
   "cell_type": "code",
   "execution_count": null,
   "id": "c08699ee",
   "metadata": {},
   "outputs": [],
   "source": [
    "open(\"TFLite_Model.tflite\", \"wb\").write(tflite_model)"
   ]
  },
  {
   "cell_type": "markdown",
   "id": "6675f26a",
   "metadata": {},
   "source": [
    "# 10- Transfer Learning Models"
   ]
  },
  {
   "cell_type": "code",
   "execution_count": 15,
   "id": "60aa2435",
   "metadata": {},
   "outputs": [],
   "source": [
    "baseModel = VGG16(weights=\"imagenet\", include_top=False,\n",
    "#baseModel = VGG19(weights=\"imagenet\", include_top=False,\n",
    "#baseModel = EfficientNetB7(weights=\"imagenet\", include_top=False,\n",
    "    input_tensor=Input(shape=(200, 200, 3)))"
   ]
  },
  {
   "cell_type": "code",
   "execution_count": 16,
   "id": "73b4cb92",
   "metadata": {},
   "outputs": [],
   "source": [
    "# head of the model that will be placed on top of the the base model\n",
    "headModel = baseModel.output\n",
    "headModel = MaxPooling2D(pool_size=(3, 3))(headModel)\n",
    "headModel = Flatten(name=\"flatten\")(headModel)\n",
    "headModel = Dense(198, activation=\"softmax\")(headModel)"
   ]
  },
  {
   "cell_type": "code",
   "execution_count": 18,
   "id": "4c01cf49",
   "metadata": {},
   "outputs": [],
   "source": [
    "# placing the head at the top of the base model\n",
    "model = Model(inputs=baseModel.input, outputs=headModel)"
   ]
  },
  {
   "cell_type": "code",
   "execution_count": 19,
   "id": "54810283",
   "metadata": {},
   "outputs": [],
   "source": [
    "# freeze all layers in the base model\n",
    "for layer in baseModel.layers:\n",
    "    layer.trainable = False"
   ]
  },
  {
   "cell_type": "code",
   "execution_count": 77,
   "id": "ee2a6f1e",
   "metadata": {},
   "outputs": [],
   "source": [
    "model.compile(loss=\"categorical_crossentropy\", optimizer=\"adam\",metrics=[\"accuracy\"])"
   ]
  },
  {
   "cell_type": "code",
   "execution_count": null,
   "id": "75dd7aa2",
   "metadata": {},
   "outputs": [],
   "source": [
    "#Training the model\n",
    "transfer_learning = model.fit(\n",
    "    trainX, trainY, \n",
    "    #batch_size=32,\n",
    "    validation_data=(testX, testY),\n",
    "    epochs=10)"
   ]
  },
  {
   "cell_type": "markdown",
   "id": "158e614e",
   "metadata": {},
   "source": [
    "# 11- SVM Transfer Learning"
   ]
  },
  {
   "cell_type": "code",
   "execution_count": null,
   "id": "17b43e21",
   "metadata": {},
   "outputs": [],
   "source": [
    "#reshaping our data to better suit SVM\n",
    "x,y,z,w = trainX.shape\n",
    "trainXX = trainX.reshape(x,y*z*w)\n",
    "x1,y1,z1,w1 = testX.shape\n",
    "testXX = testX.reshape(x1,y1*z1*w1)\n",
    "print(\"trainX before reshape:\",trainX.shape)\n",
    "print(\"testX before reshape:\",testX.shape)\n",
    "print(\"trainX after reshape:\",trainXX.shape)\n",
    "print(\"testX after reshape:\",testXX.shape)"
   ]
  },
  {
   "cell_type": "code",
   "execution_count": null,
   "id": "c1b815f7",
   "metadata": {},
   "outputs": [],
   "source": [
    "#Training using SVM classifier\n",
    "clf = svm.SVC(kernel='linear', C = 1, probability=True)\n",
    "clf.fit(trainXX,trainY)"
   ]
  },
  {
   "cell_type": "code",
   "execution_count": 47,
   "id": "b2bac04c",
   "metadata": {},
   "outputs": [],
   "source": [
    "#Model Prediction\n",
    "predIdxs = clf.predict(testXX)"
   ]
  },
  {
   "cell_type": "code",
   "execution_count": null,
   "id": "79f228c7",
   "metadata": {},
   "outputs": [],
   "source": [
    "acc = accuracy_score(predIdxs,testY)\n",
    "print(\"accuracy: %\",acc*100)"
   ]
  }
 ],
 "metadata": {
  "kernelspec": {
   "display_name": "Python 3 (ipykernel)",
   "language": "python",
   "name": "python3"
  },
  "language_info": {
   "codemirror_mode": {
    "name": "ipython",
    "version": 3
   },
   "file_extension": ".py",
   "mimetype": "text/x-python",
   "name": "python",
   "nbconvert_exporter": "python",
   "pygments_lexer": "ipython3",
   "version": "3.9.7"
  }
 },
 "nbformat": 4,
 "nbformat_minor": 5
}
